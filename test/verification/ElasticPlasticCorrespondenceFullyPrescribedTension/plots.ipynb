{
 "metadata": {
  "name": ""
 },
 "nbformat": 3,
 "nbformat_minor": 0,
 "worksheets": [
  {
   "cells": [
    {
     "cell_type": "code",
     "collapsed": false,
     "input": [
      "%pylab inline --no-import-all"
     ],
     "language": "python",
     "metadata": {},
     "outputs": [
      {
       "output_type": "stream",
       "stream": "stdout",
       "text": [
        "Populating the interactive namespace from numpy and matplotlib\n"
       ]
      }
     ],
     "prompt_number": 1
    },
    {
     "cell_type": "code",
     "collapsed": false,
     "input": [
      "%%bash\n",
      "exotxt ElasticPlasticCorrespondenceFullyPrescribedTension.h ElasticPlasticCorrespondenceFullyPrescribedTension.txt;\n",
      "sed 's/-308/E-308/g' ElasticPlasticCorrespondenceFullyPrescribedTension.txt > temp;"
     ],
     "language": "python",
     "metadata": {},
     "outputs": [
      {
       "output_type": "stream",
       "stream": "stdout",
       "text": [
        "\n",
        "                           *** exotxt Version 1.23 ***\n",
        "                               Revised 2013/08/07                      \n",
        "\n",
        "                    EXODUSII DATABASE TO TEXT FILE TRANSLATOR\n",
        "\n",
        "                          Run on 2013-12-07 at 23:51:47\n",
        "\n",
        "               ==== Email gdsjaar@sandia.gov for support ====\n",
        "\n",
        "\n",
        " DATABASE INITIAL VARIABLES\n",
        "\n",
        " Peridigm\n",
        "\n",
        " Number of coordinates per node         =         3\n",
        " Number of nodes                        =         1\n",
        " Number of elements                     =         1\n",
        " Number of element blocks               =         1\n",
        "\n",
        " Number of node sets                    =         0\n",
        " Number of side sets                    =         0\n",
        "\n",
        " Number of global variables             =         1\n",
        " Number of variables at each node       =         0\n",
        " Number of variables at each element    =         0\n",
        "\n",
        "\n",
        "       50 time steps on the input database\n",
        "       1 time steps processed\n",
        "       2 time steps processed\n",
        "       3 time steps processed\n",
        "       4 time steps processed\n",
        "       5 time steps processed\n",
        "       6 time steps processed\n",
        "       7 time steps processed\n",
        "       8 time steps processed\n",
        "       9 time steps processed\n",
        "      10 time steps processed\n",
        "      11 time steps processed\n",
        "      12 time steps processed\n",
        "      13 time steps processed\n",
        "      14 time steps processed\n",
        "      15 time steps processed\n",
        "      16 time steps processed\n",
        "      17 time steps processed\n",
        "      18 time steps processed\n",
        "      19 time steps processed\n",
        "      20 time steps processed\n",
        "      21 time steps processed\n",
        "      22 time steps processed\n",
        "      23 time steps processed\n",
        "      24 time steps processed\n",
        "      25 time steps processed\n",
        "      26 time steps processed\n",
        "      27 time steps processed\n",
        "      28 time steps processed\n",
        "      29 time steps processed\n",
        "      30 time steps processed\n",
        "      31 time steps processed\n",
        "      32 time steps processed\n",
        "      33 time steps processed\n",
        "      34 time steps processed\n",
        "      35 time steps processed\n",
        "      36 time steps processed\n",
        "      37 time steps processed\n",
        "      38 time steps processed\n",
        "      39 time steps processed\n",
        "      40 time steps processed\n",
        "      41 time steps processed\n",
        "      42 time steps processed\n",
        "      43 time steps processed\n",
        "      44 time steps processed\n",
        "      45 time steps processed\n",
        "      46 time steps processed\n",
        "      47 time steps processed\n",
        "      48 time steps processed\n",
        "      49 time steps processed\n",
        "      50 time steps processed\n",
        "\n",
        "    50 time steps have been written to the text file\n",
        "\n",
        " exotxt used 0.01 seconds of CPU time\n"
       ]
      }
     ],
     "prompt_number": 2
    },
    {
     "cell_type": "code",
     "collapsed": false,
     "input": [
      "run exoplot.py temp"
     ],
     "language": "python",
     "metadata": {},
     "outputs": [],
     "prompt_number": 3
    },
    {
     "cell_type": "code",
     "collapsed": false,
     "input": [
      "var_names"
     ],
     "language": "python",
     "metadata": {},
     "outputs": [
      {
       "metadata": {},
       "output_type": "pyout",
       "prompt_number": 4,
       "text": [
        "array(['MAX_VON_MISES_STRESS'], \n",
        "      dtype='|S20')"
       ]
      }
     ],
     "prompt_number": 4
    },
    {
     "cell_type": "code",
     "collapsed": false,
     "input": [
      "eng_strain_Y = time_steps*0.001/1.0e-8"
     ],
     "language": "python",
     "metadata": {},
     "outputs": [],
     "prompt_number": 5
    },
    {
     "cell_type": "code",
     "collapsed": false,
     "input": [
      "plt.plot(eng_strain_Y,data_vars[-1]);"
     ],
     "language": "python",
     "metadata": {},
     "outputs": [
      {
       "metadata": {},
       "output_type": "display_data",
       "png": "[encoded data removed]",
       "text": [
        "<matplotlib.figure.Figure at 0x10d3bd6d0>"
       ]
      }
     ],
     "prompt_number": 6
    },
    {
     "cell_type": "code",
     "collapsed": false,
     "input": [
      "%%bash\n",
      "rm ElasticPlasticCorrespondenceFullyPrescribedTension.txt temp"
     ],
     "language": "python",
     "metadata": {},
     "outputs": [],
     "prompt_number": 7
    }
   ],
   "metadata": {}
  }
 ]
}